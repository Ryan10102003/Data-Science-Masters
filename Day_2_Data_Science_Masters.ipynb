{
  "nbformat": 4,
  "nbformat_minor": 0,
  "metadata": {
    "colab": {
      "provenance": []
    },
    "kernelspec": {
      "name": "python3",
      "display_name": "Python 3"
    },
    "language_info": {
      "name": "python"
    }
  },
  "cells": [
    {
      "cell_type": "markdown",
      "source": [
        "# DAY 2 STRING MANIPULATION AND METHODS, EXPRESSION, OPERATORS AND PRECENDENCE"
      ],
      "metadata": {
        "id": "qITMXpbDQ1V8"
      }
    },
    {
      "cell_type": "code",
      "source": [
        "## Day 2 - Data Science Masters - 12/02/2025"
      ],
      "metadata": {
        "id": "VqZef2r8RGYa"
      },
      "execution_count": null,
      "outputs": []
    },
    {
      "cell_type": "code",
      "source": [
        "a=10"
      ],
      "metadata": {
        "id": "6rxx51f0RQui"
      },
      "execution_count": null,
      "outputs": []
    },
    {
      "cell_type": "code",
      "source": [
        "a"
      ],
      "metadata": {
        "colab": {
          "base_uri": "https://localhost:8080/"
        },
        "id": "DTqR4frrSnI8",
        "outputId": "a7698918-5174-4b94-e1d5-58c869049437"
      },
      "execution_count": null,
      "outputs": [
        {
          "output_type": "execute_result",
          "data": {
            "text/plain": [
              "10"
            ]
          },
          "metadata": {},
          "execution_count": 3
        }
      ]
    },
    {
      "cell_type": "code",
      "source": [
        "type(a)"
      ],
      "metadata": {
        "colab": {
          "base_uri": "https://localhost:8080/"
        },
        "id": "pVRvZ1MMSqLb",
        "outputId": "7ac5e0c9-f6ec-46d6-dc9c-2901d8f8270c"
      },
      "execution_count": null,
      "outputs": [
        {
          "output_type": "execute_result",
          "data": {
            "text/plain": [
              "int"
            ]
          },
          "metadata": {},
          "execution_count": 4
        }
      ]
    },
    {
      "cell_type": "code",
      "source": [
        "## Type Casting\n",
        "int('123')"
      ],
      "metadata": {
        "colab": {
          "base_uri": "https://localhost:8080/"
        },
        "id": "1nN-v5jDSxJZ",
        "outputId": "55300164-49ba-4571-d760-60794df54e47"
      },
      "execution_count": null,
      "outputs": [
        {
          "output_type": "execute_result",
          "data": {
            "text/plain": [
              "123"
            ]
          },
          "metadata": {},
          "execution_count": 6
        }
      ]
    },
    {
      "cell_type": "code",
      "source": [
        "int('abcd')"
      ],
      "metadata": {
        "colab": {
          "base_uri": "https://localhost:8080/",
          "height": 141
        },
        "id": "-XTu7Iu6S7oh",
        "outputId": "2ded260a-f9c7-4021-d417-0ee095a92f57"
      },
      "execution_count": null,
      "outputs": [
        {
          "output_type": "error",
          "ename": "ValueError",
          "evalue": "invalid literal for int() with base 10: 'abcd'",
          "traceback": [
            "\u001b[0;31m---------------------------------------------------------------------------\u001b[0m",
            "\u001b[0;31mValueError\u001b[0m                                Traceback (most recent call last)",
            "\u001b[0;32m<ipython-input-7-b6487b2c3886>\u001b[0m in \u001b[0;36m<cell line: 0>\u001b[0;34m()\u001b[0m\n\u001b[0;32m----> 1\u001b[0;31m \u001b[0mint\u001b[0m\u001b[0;34m(\u001b[0m\u001b[0;34m'abcd'\u001b[0m\u001b[0;34m)\u001b[0m\u001b[0;34m\u001b[0m\u001b[0;34m\u001b[0m\u001b[0m\n\u001b[0m",
            "\u001b[0;31mValueError\u001b[0m: invalid literal for int() with base 10: 'abcd'"
          ]
        }
      ]
    },
    {
      "cell_type": "code",
      "source": [
        "## Print Statement\n",
        "print(\"Hello World\")"
      ],
      "metadata": {
        "colab": {
          "base_uri": "https://localhost:8080/"
        },
        "id": "sWUZKT_kTL7t",
        "outputId": "c146c7f5-1042-4b01-96fb-2b83e0c31b09"
      },
      "execution_count": null,
      "outputs": [
        {
          "output_type": "stream",
          "name": "stdout",
          "text": [
            "Hello World\n"
          ]
        }
      ]
    },
    {
      "cell_type": "code",
      "source": [
        "print(123)"
      ],
      "metadata": {
        "colab": {
          "base_uri": "https://localhost:8080/"
        },
        "id": "D5UAGpgSTmve",
        "outputId": "bb4fcc5b-e1f1-4220-a91f-6769169eb23b"
      },
      "execution_count": null,
      "outputs": [
        {
          "output_type": "stream",
          "name": "stdout",
          "text": [
            "123\n"
          ]
        }
      ]
    },
    {
      "cell_type": "code",
      "source": [
        "## Can write in double quote \"\" and can write in single '' quote also"
      ],
      "metadata": {
        "id": "a5LcQUrSTqzv"
      },
      "execution_count": null,
      "outputs": []
    },
    {
      "cell_type": "code",
      "source": [
        "age=21\n",
        "print(\"My age is:\", age)"
      ],
      "metadata": {
        "colab": {
          "base_uri": "https://localhost:8080/"
        },
        "id": "EhkYFiwKUAxg",
        "outputId": "88d3ebfe-e2d6-4e46-84b8-c5d354746f9a"
      },
      "execution_count": null,
      "outputs": [
        {
          "output_type": "stream",
          "name": "stdout",
          "text": [
            "My age is: 21\n"
          ]
        }
      ]
    },
    {
      "cell_type": "code",
      "source": [
        "## F string - used for Formatting purpose\n",
        "print(f\"My age is: {age}\")"
      ],
      "metadata": {
        "colab": {
          "base_uri": "https://localhost:8080/"
        },
        "id": "YV_Ljq-DUM65",
        "outputId": "3475ad33-a916-4bf6-cf57-03c584c4fee7"
      },
      "execution_count": null,
      "outputs": [
        {
          "output_type": "stream",
          "name": "stdout",
          "text": [
            "My age is: 21\n"
          ]
        }
      ]
    },
    {
      "cell_type": "code",
      "source": [
        "## Formatting\n",
        "name=\"Ryan\"\n",
        "age=21\n",
        "print(\"My name is {} and my age is {}\".format(name,age))"
      ],
      "metadata": {
        "colab": {
          "base_uri": "https://localhost:8080/"
        },
        "id": "eafhnSqnUbKH",
        "outputId": "3b831b00-7f91-4925-ff76-98d7540294ba"
      },
      "execution_count": null,
      "outputs": [
        {
          "output_type": "stream",
          "name": "stdout",
          "text": [
            "My name is Ryan and my age is 21\n"
          ]
        }
      ]
    },
    {
      "cell_type": "code",
      "source": [
        "name=\"Ryan\"\n",
        "Age=21\n",
        "Degree=\"BMS\"\n",
        "print(\"My age is {} and I have completed: my degree of {} with the name of {}\".format(Age,Degree,name))"
      ],
      "metadata": {
        "colab": {
          "base_uri": "https://localhost:8080/"
        },
        "id": "H8uer5NGYvO_",
        "outputId": "7fd0b486-3aed-477a-ba40-090780bda934"
      },
      "execution_count": null,
      "outputs": [
        {
          "output_type": "stream",
          "name": "stdout",
          "text": [
            "My age is 21 and I have completed: my degree of BMS with the name of Ryan\n"
          ]
        }
      ]
    },
    {
      "cell_type": "code",
      "source": [
        "## Placeholder\n",
        "print(\"My name is {firstname} and my age is {firstage}\".format(firstname=name,firstage=age))"
      ],
      "metadata": {
        "colab": {
          "base_uri": "https://localhost:8080/"
        },
        "id": "US8XnwCJU8kE",
        "outputId": "f758a2f8-bf1d-4df5-ce52-301f37c70936"
      },
      "execution_count": null,
      "outputs": [
        {
          "output_type": "stream",
          "name": "stdout",
          "text": [
            "My name is Ryan and my age is 21\n"
          ]
        }
      ]
    },
    {
      "cell_type": "code",
      "source": [
        "name=\"Ryan\"\n",
        "age=21\n",
        "Degree=\"BMS\"\n",
        "\n",
        "\" My age is 21 and I have completed: my degree of BMS with the name of Ryan\"\n"
      ],
      "metadata": {
        "colab": {
          "base_uri": "https://localhost:8080/",
          "height": 36
        },
        "id": "ivZ8GNIqWCqA",
        "outputId": "174fd8ea-0af6-428b-89f4-6a1e0ef8c8b7"
      },
      "execution_count": null,
      "outputs": [
        {
          "output_type": "execute_result",
          "data": {
            "text/plain": [
              "' My age is 21 and I have completed: my degree of BMS with the name of Ryan'"
            ],
            "application/vnd.google.colaboratory.intrinsic+json": {
              "type": "string"
            }
          },
          "metadata": {},
          "execution_count": 26
        }
      ]
    },
    {
      "cell_type": "code",
      "source": [
        "print(\"My age is {} and I have completed: my degree of {} with the name of {}\".format(age,Degree,name))\n"
      ],
      "metadata": {
        "colab": {
          "base_uri": "https://localhost:8080/"
        },
        "id": "DnLMK5V1Wbov",
        "outputId": "ed6b06d3-fb06-44f3-c29c-d7462551cd18"
      },
      "execution_count": null,
      "outputs": [
        {
          "output_type": "stream",
          "name": "stdout",
          "text": [
            "My age is 21 and I have completed: my degree of BMS with the name of Ryan\n"
          ]
        }
      ]
    },
    {
      "cell_type": "code",
      "source": [],
      "metadata": {
        "id": "yvlM5d5vXRUj"
      },
      "execution_count": null,
      "outputs": []
    },
    {
      "cell_type": "markdown",
      "source": [
        "## Control Flow\n",
        "## Decision Making Statements"
      ],
      "metadata": {
        "id": "20DeRL8sX-Mi"
      }
    },
    {
      "cell_type": "code",
      "source": [
        "## If statments\n",
        "age=18\n",
        "if age>=18:\n",
        "    print(\"You are eligible to vote\")"
      ],
      "metadata": {
        "colab": {
          "base_uri": "https://localhost:8080/"
        },
        "id": "zUqDjCY_YLIx",
        "outputId": "a3588096-8423-43a5-e488-4733dd465ab4"
      },
      "execution_count": null,
      "outputs": [
        {
          "output_type": "stream",
          "name": "stdout",
          "text": [
            "You are eligible to vote\n"
          ]
        }
      ]
    },
    {
      "cell_type": "code",
      "source": [
        "## If statments (Nothing is getting printed) ( Statement is False)\n",
        "age=18\n",
        "if age<18:\n",
        "    print(\"You are eligible to vote\")"
      ],
      "metadata": {
        "id": "S1kVa50GZpDD"
      },
      "execution_count": null,
      "outputs": []
    },
    {
      "cell_type": "code",
      "source": [
        "19<18"
      ],
      "metadata": {
        "colab": {
          "base_uri": "https://localhost:8080/"
        },
        "id": "7ZzVLtR_aIgD",
        "outputId": "dc11ad76-4b33-4226-a16a-d2197383c3d3"
      },
      "execution_count": null,
      "outputs": [
        {
          "output_type": "execute_result",
          "data": {
            "text/plain": [
              "False"
            ]
          },
          "metadata": {},
          "execution_count": 39
        }
      ]
    },
    {
      "cell_type": "code",
      "source": [
        "18<=18"
      ],
      "metadata": {
        "colab": {
          "base_uri": "https://localhost:8080/"
        },
        "id": "NiScDk2BaQt8",
        "outputId": "4ba880c4-3772-4394-a523-db39b88106e8"
      },
      "execution_count": null,
      "outputs": [
        {
          "output_type": "execute_result",
          "data": {
            "text/plain": [
              "True"
            ]
          },
          "metadata": {},
          "execution_count": 40
        }
      ]
    },
    {
      "cell_type": "code",
      "source": [
        "input()"
      ],
      "metadata": {
        "colab": {
          "base_uri": "https://localhost:8080/",
          "height": 53
        },
        "id": "DCfeDqj5aTyR",
        "outputId": "56904230-a679-4d8c-ca69-60d47156e2a8"
      },
      "execution_count": null,
      "outputs": [
        {
          "name": "stdout",
          "output_type": "stream",
          "text": [
            "Ryan\n"
          ]
        },
        {
          "output_type": "execute_result",
          "data": {
            "text/plain": [
              "'Ryan'"
            ],
            "application/vnd.google.colaboratory.intrinsic+json": {
              "type": "string"
            }
          },
          "metadata": {},
          "execution_count": 42
        }
      ]
    },
    {
      "cell_type": "code",
      "source": [
        "name=input(\"Enter the name\")"
      ],
      "metadata": {
        "colab": {
          "base_uri": "https://localhost:8080/"
        },
        "id": "ONend40Falci",
        "outputId": "01003f12-047b-475c-b4cb-1c378caf5e4e"
      },
      "execution_count": null,
      "outputs": [
        {
          "name": "stdout",
          "output_type": "stream",
          "text": [
            "Enter the nameRyan Chettiar\n"
          ]
        }
      ]
    },
    {
      "cell_type": "code",
      "source": [
        "name"
      ],
      "metadata": {
        "colab": {
          "base_uri": "https://localhost:8080/",
          "height": 36
        },
        "id": "lfWPx0i2bCC4",
        "outputId": "a5e0526c-0cc5-4d4f-89eb-d6f03b478b8c"
      },
      "execution_count": null,
      "outputs": [
        {
          "output_type": "execute_result",
          "data": {
            "text/plain": [
              "'Ryan Chettiar'"
            ],
            "application/vnd.google.colaboratory.intrinsic+json": {
              "type": "string"
            }
          },
          "metadata": {},
          "execution_count": 45
        }
      ]
    },
    {
      "cell_type": "code",
      "source": [
        "age=int(input(\"Enter the age\"))"
      ],
      "metadata": {
        "colab": {
          "base_uri": "https://localhost:8080/"
        },
        "id": "Ah5vvvJEbFhA",
        "outputId": "d572ef3d-6922-456a-c33b-56c23bad9185"
      },
      "execution_count": null,
      "outputs": [
        {
          "name": "stdout",
          "output_type": "stream",
          "text": [
            "Enter the age21\n"
          ]
        }
      ]
    },
    {
      "cell_type": "code",
      "source": [
        "age"
      ],
      "metadata": {
        "colab": {
          "base_uri": "https://localhost:8080/"
        },
        "id": "__bYYGtrbLsY",
        "outputId": "1e1fcddd-59bf-4ca7-f8ba-fa382b1965f1"
      },
      "execution_count": null,
      "outputs": [
        {
          "output_type": "execute_result",
          "data": {
            "text/plain": [
              "21"
            ]
          },
          "metadata": {},
          "execution_count": 47
        }
      ]
    },
    {
      "cell_type": "code",
      "source": [
        "type(age)"
      ],
      "metadata": {
        "colab": {
          "base_uri": "https://localhost:8080/"
        },
        "id": "TUA3eguNbNlL",
        "outputId": "4db67621-76d3-46bc-a8a3-7e9d83c8e6c1"
      },
      "execution_count": null,
      "outputs": [
        {
          "output_type": "execute_result",
          "data": {
            "text/plain": [
              "int"
            ]
          },
          "metadata": {},
          "execution_count": 48
        }
      ]
    },
    {
      "cell_type": "code",
      "source": [
        "## TAsk 1-"
      ],
      "metadata": {
        "id": "jq5x4dz0bR0R"
      },
      "execution_count": null,
      "outputs": []
    },
    {
      "cell_type": "code",
      "source": [
        "age=int(input(\"Enter the age\"))\n",
        "if age>=18 and age <=45:\n",
        "    print(\"you are young blood\")"
      ],
      "metadata": {
        "colab": {
          "base_uri": "https://localhost:8080/"
        },
        "id": "T9SqOLTTbypd",
        "outputId": "a4dec6ec-4f2e-4c82-c74a-0f0808964556"
      },
      "execution_count": null,
      "outputs": [
        {
          "output_type": "stream",
          "name": "stdout",
          "text": [
            "Enter the age21\n",
            "you are young blood\n"
          ]
        }
      ]
    },
    {
      "cell_type": "code",
      "source": [
        "if age>=18 and age <=45:\n",
        "    print(\"you are young blood\")"
      ],
      "metadata": {
        "id": "PrP0kURPb6Hx",
        "colab": {
          "base_uri": "https://localhost:8080/"
        },
        "outputId": "a09a465f-90f9-455b-fd79-577632c8d6e4"
      },
      "execution_count": null,
      "outputs": [
        {
          "output_type": "stream",
          "name": "stdout",
          "text": [
            "you are young blood\n"
          ]
        }
      ]
    },
    {
      "cell_type": "code",
      "source": [
        "age = 45"
      ],
      "metadata": {
        "id": "Gc3ECl26cJcO"
      },
      "execution_count": null,
      "outputs": []
    },
    {
      "cell_type": "code",
      "source": [
        "if age>=18 and age <=45:\n",
        "    print(\"you are young blood\")"
      ],
      "metadata": {
        "colab": {
          "base_uri": "https://localhost:8080/"
        },
        "id": "LWqLnmn1dJ9E",
        "outputId": "dc34c481-7090-49d9-90d8-e731b4b60d5d"
      },
      "execution_count": null,
      "outputs": [
        {
          "output_type": "stream",
          "name": "stdout",
          "text": [
            "you are young blood\n"
          ]
        }
      ]
    },
    {
      "cell_type": "code",
      "source": [
        "age = 46"
      ],
      "metadata": {
        "id": "oEa_zNcrdLhe"
      },
      "execution_count": null,
      "outputs": []
    },
    {
      "cell_type": "code",
      "source": [
        "if age>=18 and age <=45:\n",
        "    print(\"you are young blood\")"
      ],
      "metadata": {
        "id": "06Kaae1ddNj7"
      },
      "execution_count": null,
      "outputs": []
    },
    {
      "cell_type": "code",
      "source": [
        "22>=18"
      ],
      "metadata": {
        "colab": {
          "base_uri": "https://localhost:8080/"
        },
        "id": "RkyJn50WdPAe",
        "outputId": "3ee1aa99-061c-46ab-c34d-01ba8a21c1fe"
      },
      "execution_count": null,
      "outputs": [
        {
          "output_type": "execute_result",
          "data": {
            "text/plain": [
              "True"
            ]
          },
          "metadata": {},
          "execution_count": 59
        }
      ]
    },
    {
      "cell_type": "code",
      "source": [
        "22<=45"
      ],
      "metadata": {
        "colab": {
          "base_uri": "https://localhost:8080/"
        },
        "id": "I1bt6EmrdaLn",
        "outputId": "e4829778-2339-4b2f-dcd9-62164eca3818"
      },
      "execution_count": null,
      "outputs": [
        {
          "output_type": "execute_result",
          "data": {
            "text/plain": [
              "True"
            ]
          },
          "metadata": {},
          "execution_count": 60
        }
      ]
    },
    {
      "cell_type": "code",
      "source": [
        "age=int(input(\"Enter the age\"))\n",
        "if age>=18 and age <=45:\n",
        "    print(\"you are young blood\")"
      ],
      "metadata": {
        "colab": {
          "base_uri": "https://localhost:8080/"
        },
        "id": "cXPT8aKkdjji",
        "outputId": "e632a608-57fc-4211-d336-702440f0be3c"
      },
      "execution_count": null,
      "outputs": [
        {
          "name": "stdout",
          "output_type": "stream",
          "text": [
            "Enter the age55\n"
          ]
        }
      ]
    },
    {
      "cell_type": "code",
      "source": [
        "## If Else statememt\n",
        "age=int(input(\"Enter the age\"))\n",
        "if age>=18 and age <=45:\n",
        "    print(\"you are young blood\")\n",
        "else:\n",
        "    print(\"Thank you we will let you know\")\n"
      ],
      "metadata": {
        "colab": {
          "base_uri": "https://localhost:8080/"
        },
        "id": "v2cyfcSteXjv",
        "outputId": "9499eb47-6d84-43e2-e384-e68ce6b1c6af"
      },
      "execution_count": null,
      "outputs": [
        {
          "output_type": "stream",
          "name": "stdout",
          "text": [
            "Enter the age56\n",
            "Thank you we will let you know\n"
          ]
        }
      ]
    },
    {
      "cell_type": "code",
      "source": [
        "## mall - input the product price\n",
        "### product > 1000 rs then 20% off\n",
        "## print the product price\n",
        "## product <=1000 rs 30% off\n"
      ],
      "metadata": {
        "id": "4xLDVnoUeehM"
      },
      "execution_count": null,
      "outputs": []
    },
    {
      "cell_type": "code",
      "source": [
        "## If else statement\n",
        "Product_price=int(input(\"Enter the price\"))\n",
        "if Product_price>1000:\n",
        "    print(\"The price of the product is {}\".format(Product_price*0.8))\n",
        "else:\n",
        "    print(\"The price of the product is {}\".format(Product_price*0.7))\n"
      ],
      "metadata": {
        "colab": {
          "base_uri": "https://localhost:8080/"
        },
        "id": "2ZLq9CRnfrWu",
        "outputId": "f915ec9f-f2ae-4e75-890a-df56ee48b3fd"
      },
      "execution_count": null,
      "outputs": [
        {
          "output_type": "stream",
          "name": "stdout",
          "text": [
            "Enter the price5000\n",
            "The price of the product is 4000.0\n"
          ]
        }
      ]
    },
    {
      "cell_type": "code",
      "source": [
        "int(20/100*5000)"
      ],
      "metadata": {
        "colab": {
          "base_uri": "https://localhost:8080/"
        },
        "id": "jt4S2JK7f9DM",
        "outputId": "b46f5035-b9ab-43bd-bc64-107ef7b75b0b"
      },
      "execution_count": null,
      "outputs": [
        {
          "output_type": "execute_result",
          "data": {
            "text/plain": [
              "1000"
            ]
          },
          "metadata": {},
          "execution_count": 81
        }
      ]
    },
    {
      "cell_type": "code",
      "source": [
        "## mall - input the product price\n",
        "### product > 3000 rs then 20% off\n",
        "## print the product price\n",
        "## product >=2000 rs and <=3000 then 30% off\n",
        "## print the product price\n",
        "## product <=1000 rs 30% off\n",
        "## price ==2999 you get additional gift"
      ],
      "metadata": {
        "id": "OLX8bd16h612"
      },
      "execution_count": null,
      "outputs": []
    },
    {
      "cell_type": "code",
      "source": [
        "## If condition\n",
        "Product_price=int(input(\"Enter the price\"))\n",
        "if Product_price>3000:\n",
        "    print(\"The price of the product is {}\".format(Product_price*0.8))\n",
        "elif Product_price>=2000 and Product_price<=3000:\n",
        "  if Product_price==2999:\n",
        "    print(\"Congratulations you get a gift\")\n",
        "elif Product_price>=2000 and Product_price<=3000:\n",
        "  print(\"The price of the product is {}\".format(Product_price*0.7))\n",
        "else:\n",
        "    print(\"The price of the product is {}\".format(Product_price*0.6))"
      ],
      "metadata": {
        "colab": {
          "base_uri": "https://localhost:8080/"
        },
        "id": "Z-AawJN_kLJa",
        "outputId": "545af4b7-abdd-4316-a43d-a511bb912512"
      },
      "execution_count": null,
      "outputs": [
        {
          "output_type": "stream",
          "name": "stdout",
          "text": [
            "Enter the price2999\n",
            "Congratulations you get a gift\n"
          ]
        }
      ]
    },
    {
      "cell_type": "code",
      "source": [
        "## Comparison Statement\n",
        "True==True"
      ],
      "metadata": {
        "colab": {
          "base_uri": "https://localhost:8080/"
        },
        "id": "XkOFOjQlkpuB",
        "outputId": "aa987fb8-b6e7-44ec-eb7b-d85b2d32ade3"
      },
      "execution_count": null,
      "outputs": [
        {
          "output_type": "execute_result",
          "data": {
            "text/plain": [
              "True"
            ]
          },
          "metadata": {},
          "execution_count": 94
        }
      ]
    },
    {
      "cell_type": "code",
      "source": [
        "## Single Statement suites\n",
        "val=int(input(\"Enter the number\"))\n",
        "if(val<=999):print(\"Value is less than equal to 999\")\n",
        "else:\n",
        "  print(\"Go Home\")"
      ],
      "metadata": {
        "colab": {
          "base_uri": "https://localhost:8080/"
        },
        "id": "vT37ACU5nnM0",
        "outputId": "a094c412-a560-45a8-856f-783c6dd1a697"
      },
      "execution_count": null,
      "outputs": [
        {
          "output_type": "stream",
          "name": "stdout",
          "text": [
            "Enter the number1000\n",
            "Go Home\n"
          ]
        }
      ]
    },
    {
      "cell_type": "code",
      "source": [
        "a=10"
      ],
      "metadata": {
        "id": "SFmV4mL3on9n"
      },
      "execution_count": null,
      "outputs": []
    },
    {
      "cell_type": "code",
      "source": [
        "name=input(\"Enter you Name\")"
      ],
      "metadata": {
        "id": "rOHdlZuAGCBT"
      },
      "execution_count": null,
      "outputs": []
    },
    {
      "cell_type": "code",
      "source": [
        "Age=input(\"Enter your Age\")"
      ],
      "metadata": {
        "id": "KB2ceJlNGkoN"
      },
      "execution_count": null,
      "outputs": []
    },
    {
      "cell_type": "code",
      "source": [
        "a=10"
      ],
      "metadata": {
        "id": "LMmH31cgGoSi"
      },
      "execution_count": 2,
      "outputs": []
    },
    {
      "cell_type": "code",
      "source": [
        "a"
      ],
      "metadata": {
        "colab": {
          "base_uri": "https://localhost:8080/"
        },
        "id": "XdXXyaUYbD01",
        "outputId": "8646c621-149b-4724-f6de-d36429b8a182"
      },
      "execution_count": 3,
      "outputs": [
        {
          "output_type": "execute_result",
          "data": {
            "text/plain": [
              "10"
            ]
          },
          "metadata": {},
          "execution_count": 3
        }
      ]
    },
    {
      "cell_type": "code",
      "source": [
        "a"
      ],
      "metadata": {
        "colab": {
          "base_uri": "https://localhost:8080/"
        },
        "id": "iyLTHjzXbEry",
        "outputId": "2ef4ed14-06f4-4c15-cbaf-fc3041033b1e"
      },
      "execution_count": 4,
      "outputs": [
        {
          "output_type": "execute_result",
          "data": {
            "text/plain": [
              "10"
            ]
          },
          "metadata": {},
          "execution_count": 4
        }
      ]
    },
    {
      "cell_type": "markdown",
      "source": [
        "## Loop Statements\n",
        "\n",
        "1. While Lookup\n",
        "2. for loop\n",
        "3. nested loop\n",
        "4. Loop Control (break,continue,pass)"
      ],
      "metadata": {
        "id": "R8CU0ffqcUB-"
      }
    },
    {
      "cell_type": "markdown",
      "source": [
        "## While Loop"
      ],
      "metadata": {
        "id": "25twhPX4gXxH"
      }
    },
    {
      "cell_type": "code",
      "source": [
        "## While Loop\n",
        "\n",
        "joining_age=25\n",
        "while joining_age<=60:\n",
        "      print(joining_age)\n",
        "      joining_age = joining_age+1\n",
        "\n",
        "else:\n",
        "  print(\"its time for retirement\")\n"
      ],
      "metadata": {
        "colab": {
          "base_uri": "https://localhost:8080/"
        },
        "id": "4Z21K-xhcQbZ",
        "outputId": "7c8c147b-fd55-4d3f-85c4-ef9766633148"
      },
      "execution_count": 11,
      "outputs": [
        {
          "output_type": "stream",
          "name": "stdout",
          "text": [
            "25\n",
            "26\n",
            "27\n",
            "28\n",
            "29\n",
            "30\n",
            "31\n",
            "32\n",
            "33\n",
            "34\n",
            "35\n",
            "36\n",
            "37\n",
            "38\n",
            "39\n",
            "40\n",
            "41\n",
            "42\n",
            "43\n",
            "44\n",
            "45\n",
            "46\n",
            "47\n",
            "48\n",
            "49\n",
            "50\n",
            "51\n",
            "52\n",
            "53\n",
            "54\n",
            "55\n",
            "56\n",
            "57\n",
            "58\n",
            "59\n",
            "60\n",
            "its time for retirement\n"
          ]
        }
      ]
    },
    {
      "cell_type": "code",
      "source": [
        "\n"
      ],
      "metadata": {
        "id": "jYZeqwxbfIK5"
      },
      "execution_count": null,
      "outputs": []
    },
    {
      "cell_type": "markdown",
      "source": [
        "## For Loop"
      ],
      "metadata": {
        "id": "2d903fr0gUx0"
      }
    },
    {
      "cell_type": "code",
      "source": [
        "first = [\"Ryan\",1,2,3,4,\"apple\",\"Banana\"]"
      ],
      "metadata": {
        "id": "6jUCXMKFgVU8"
      },
      "execution_count": 23,
      "outputs": []
    },
    {
      "cell_type": "code",
      "source": [
        "type(first)"
      ],
      "metadata": {
        "colab": {
          "base_uri": "https://localhost:8080/"
        },
        "id": "YvR4lTTvg8pK",
        "outputId": "7875bcaf-6028-4638-964e-a98130606364"
      },
      "execution_count": 24,
      "outputs": [
        {
          "output_type": "execute_result",
          "data": {
            "text/plain": [
              "list"
            ]
          },
          "metadata": {},
          "execution_count": 24
        }
      ]
    },
    {
      "cell_type": "code",
      "source": [
        "first[0]"
      ],
      "metadata": {
        "colab": {
          "base_uri": "https://localhost:8080/",
          "height": 36
        },
        "id": "2NrJV3j3hMYY",
        "outputId": "f9589b0c-0411-4c9d-83b9-b5e1234fea4a"
      },
      "execution_count": 25,
      "outputs": [
        {
          "output_type": "execute_result",
          "data": {
            "text/plain": [
              "'Ryan'"
            ],
            "application/vnd.google.colaboratory.intrinsic+json": {
              "type": "string"
            }
          },
          "metadata": {},
          "execution_count": 25
        }
      ]
    },
    {
      "cell_type": "code",
      "source": [
        "first[5]"
      ],
      "metadata": {
        "colab": {
          "base_uri": "https://localhost:8080/",
          "height": 36
        },
        "id": "scpGPH9khXQq",
        "outputId": "129b6644-8681-462b-ca44-cd8957319930"
      },
      "execution_count": 27,
      "outputs": [
        {
          "output_type": "execute_result",
          "data": {
            "text/plain": [
              "'apple'"
            ],
            "application/vnd.google.colaboratory.intrinsic+json": {
              "type": "string"
            }
          },
          "metadata": {},
          "execution_count": 27
        }
      ]
    },
    {
      "cell_type": "code",
      "source": [
        "first"
      ],
      "metadata": {
        "colab": {
          "base_uri": "https://localhost:8080/"
        },
        "id": "aWYoE0G7hcU1",
        "outputId": "5a56e703-e272-45eb-ebc5-afddd866f590"
      },
      "execution_count": 28,
      "outputs": [
        {
          "output_type": "execute_result",
          "data": {
            "text/plain": [
              "['Ryan', 1, 2, 3, 4, 'apple', 'Banana']"
            ]
          },
          "metadata": {},
          "execution_count": 28
        }
      ]
    },
    {
      "cell_type": "code",
      "source": [
        "for x in first:\n",
        "  print(x)"
      ],
      "metadata": {
        "colab": {
          "base_uri": "https://localhost:8080/"
        },
        "id": "XTALEIemhjHV",
        "outputId": "ff106a6f-443b-4896-fa19-2e8e3c0a22ed"
      },
      "execution_count": 29,
      "outputs": [
        {
          "output_type": "stream",
          "name": "stdout",
          "text": [
            "Ryan\n",
            "1\n",
            "2\n",
            "3\n",
            "4\n",
            "apple\n",
            "Banana\n"
          ]
        }
      ]
    },
    {
      "cell_type": "code",
      "source": [
        "fruits_list = [\"Mango\" , \"Banana\" , \"apple\"]"
      ],
      "metadata": {
        "id": "eAEOrDO7h1Be"
      },
      "execution_count": 30,
      "outputs": []
    },
    {
      "cell_type": "code",
      "source": [
        "for a in fruits_list:\n",
        "    print(a)\n",
        "    if a==\"Banana\":\n",
        "        print(\"The fruit is Banana\")\n",
        ""
      ],
      "metadata": {
        "colab": {
          "base_uri": "https://localhost:8080/"
        },
        "id": "--_ZF5Z_iNrZ",
        "outputId": "0218f340-9e0b-4c82-c004-4313bc01ca35"
      },
      "execution_count": 38,
      "outputs": [
        {
          "output_type": "stream",
          "name": "stdout",
          "text": [
            "Mango\n",
            "Banana\n",
            "The fruit is Banana\n",
            "apple\n"
          ]
        }
      ]
    },
    {
      "cell_type": "code",
      "source": [
        "fruits = \"Mango\"\n",
        "for x in fruits:\n",
        "    print(x)"
      ],
      "metadata": {
        "colab": {
          "base_uri": "https://localhost:8080/"
        },
        "id": "EF9RFB5SiYrZ",
        "outputId": "7004b711-88f7-492e-f611-d05c147cf9a8"
      },
      "execution_count": 42,
      "outputs": [
        {
          "output_type": "stream",
          "name": "stdout",
          "text": [
            "M\n",
            "a\n",
            "n\n",
            "g\n",
            "o\n"
          ]
        }
      ]
    },
    {
      "cell_type": "code",
      "source": [
        "fruits [0]"
      ],
      "metadata": {
        "colab": {
          "base_uri": "https://localhost:8080/",
          "height": 36
        },
        "id": "TykZi6rNjH16",
        "outputId": "03a55d23-4e04-4b32-ae80-48ae61c97701"
      },
      "execution_count": 46,
      "outputs": [
        {
          "output_type": "execute_result",
          "data": {
            "text/plain": [
              "'M'"
            ],
            "application/vnd.google.colaboratory.intrinsic+json": {
              "type": "string"
            }
          },
          "metadata": {},
          "execution_count": 46
        }
      ]
    },
    {
      "cell_type": "code",
      "source": [],
      "metadata": {
        "id": "jAE7mja5jW0y"
      },
      "execution_count": null,
      "outputs": []
    },
    {
      "cell_type": "markdown",
      "source": [
        "## Nested Loop"
      ],
      "metadata": {
        "id": "bww_La9JjpXE"
      }
    },
    {
      "cell_type": "code",
      "source": [
        "n = 7\n",
        "\n"
      ],
      "metadata": {
        "id": "R5y3pR4Zjrfl"
      },
      "execution_count": 47,
      "outputs": []
    },
    {
      "cell_type": "code",
      "source": [
        "## Range\n",
        "\n",
        "for i in range (1,10):\n",
        "  print(i)\n"
      ],
      "metadata": {
        "colab": {
          "base_uri": "https://localhost:8080/"
        },
        "id": "ehvYDck3kDV0",
        "outputId": "8cbe3dfc-94b7-48ba-f20d-28d7c1372804"
      },
      "execution_count": 52,
      "outputs": [
        {
          "output_type": "stream",
          "name": "stdout",
          "text": [
            "1\n",
            "2\n",
            "3\n",
            "4\n",
            "5\n",
            "6\n",
            "7\n",
            "8\n",
            "9\n"
          ]
        }
      ]
    },
    {
      "cell_type": "code",
      "source": [
        "for i in range (1,10, 2):\n",
        "  print(i)"
      ],
      "metadata": {
        "colab": {
          "base_uri": "https://localhost:8080/"
        },
        "id": "POOPflRklQ1d",
        "outputId": "db9cd5a6-e51b-486d-df7a-7d84505741b6"
      },
      "execution_count": 53,
      "outputs": [
        {
          "output_type": "stream",
          "name": "stdout",
          "text": [
            "1\n",
            "3\n",
            "5\n",
            "7\n",
            "9\n"
          ]
        }
      ]
    },
    {
      "cell_type": "code",
      "source": [
        "n = 7\n",
        "\n",
        "for i in range(0,n):\n",
        "  for j in range(0,i+1):\n",
        "    print(\"*\", end= \"\")\n",
        "  print(\"/r\")"
      ],
      "metadata": {
        "colab": {
          "base_uri": "https://localhost:8080/"
        },
        "id": "NFi89VEjlfG7",
        "outputId": "58d13019-6a01-46cc-a945-36810adf13ea"
      },
      "execution_count": 57,
      "outputs": [
        {
          "output_type": "stream",
          "name": "stdout",
          "text": [
            "*/r\n",
            "**/r\n",
            "***/r\n",
            "****/r\n",
            "*****/r\n",
            "******/r\n",
            "*******/r\n"
          ]
        }
      ]
    },
    {
      "cell_type": "code",
      "source": [
        "## Loop Controls (Break, Continue, pass)\n",
        "\n",
        "### Break and continue\n",
        "\n",
        "fruits_list = [\"Mango\" , \"Banana\" , \"apple\",\"Guava\",\"Cherry\"]\n"
      ],
      "metadata": {
        "id": "u-uFBqwNl3rO"
      },
      "execution_count": 66,
      "outputs": []
    },
    {
      "cell_type": "code",
      "source": [
        "## Break\n",
        "for i in fruits_list:\n",
        "  if i==\"apple\":\n",
        "    print(\"The fruit is apple\")\n",
        "    break\n",
        "  print(i)"
      ],
      "metadata": {
        "colab": {
          "base_uri": "https://localhost:8080/"
        },
        "id": "Kvm7QaJdo3pc",
        "outputId": "7e2a19b0-b2ee-4320-aa31-78a74db3ddf4"
      },
      "execution_count": 65,
      "outputs": [
        {
          "output_type": "stream",
          "name": "stdout",
          "text": [
            "Mango\n",
            "Banana\n",
            "The fruit is apple\n"
          ]
        }
      ]
    },
    {
      "cell_type": "code",
      "source": [
        "## Pass\n",
        "for i in fruits_list:\n",
        "  if i==\"apple\":\n",
        "    print(\"The fruit is apple\")\n",
        "    pass\n",
        "  print(i)"
      ],
      "metadata": {
        "colab": {
          "base_uri": "https://localhost:8080/"
        },
        "id": "QXxyWfq9pPMw",
        "outputId": "454603b3-d721-4fe5-b7c7-24bcf997256b"
      },
      "execution_count": 67,
      "outputs": [
        {
          "output_type": "stream",
          "name": "stdout",
          "text": [
            "Mango\n",
            "Banana\n",
            "The fruit is apple\n",
            "apple\n",
            "Guava\n",
            "Cherry\n"
          ]
        }
      ]
    },
    {
      "cell_type": "code",
      "source": [
        "## continue\n",
        "for i in fruits_list:\n",
        "  if i==\"apple\":\n",
        "    print(\"The fruit is apple\")\n",
        "    continue\n",
        "  print(i)"
      ],
      "metadata": {
        "colab": {
          "base_uri": "https://localhost:8080/"
        },
        "id": "iI448KccpuQM",
        "outputId": "c9ad687a-3b9c-43d2-9809-68f0a3bfba8e"
      },
      "execution_count": 69,
      "outputs": [
        {
          "output_type": "stream",
          "name": "stdout",
          "text": [
            "Mango\n",
            "Banana\n",
            "The fruit is apple\n",
            "Guava\n",
            "Cherry\n"
          ]
        }
      ]
    },
    {
      "cell_type": "code",
      "source": [
        "## Break wil stop the Loop , Continue will skip the loop"
      ],
      "metadata": {
        "id": "NHDtZWwWp2UN"
      },
      "execution_count": 70,
      "outputs": []
    },
    {
      "cell_type": "code",
      "source": [],
      "metadata": {
        "id": "2OUcNRopqL0G"
      },
      "execution_count": null,
      "outputs": []
    }
  ]
}